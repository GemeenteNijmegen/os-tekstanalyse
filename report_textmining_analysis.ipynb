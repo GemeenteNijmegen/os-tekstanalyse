{
 "cells": [
  {
   "cell_type": "markdown",
   "id": "serious-caution",
   "metadata": {},
   "source": [
    "# Tekst analyse report"
   ]
  },
  {
   "cell_type": "markdown",
   "id": "square-circus",
   "metadata": {},
   "source": [
    "Een automatisch rapport voor de resultaten van de tekst analyse\n"
   ]
  },
  {
   "cell_type": "code",
   "execution_count": null,
   "id": "indoor-report",
   "metadata": {},
   "outputs": [],
   "source": [
    "# install & load packages\n",
    "shhh <- suppressPackageStartupMessages\n",
    "packages_needed<-c( 'IRdisplay', 'dplyr', 'purrr', 'IRdisplay', 'here')\n",
    "installed<-installed.packages()\n",
    "sapply(packages_needed, function(p)\n",
    "  if(!p %in% installed[,1]){\n",
    "  install.packages(p)\n",
    "  }) \n",
    "lapply(packages_needed, library, character.only=T)\n",
    "rm(installed, packages_needed)\n",
    "\n",
    "# set directories\n",
    "here()\n",
    "word2vec.path <- paste0(here(),\"/REPORT/WORD2VEC/\")\n",
    "topicmodels.path <-  paste0(here(),\"/REPORT/TOPICMODEL\")\n",
    "       \n",
    "options(warn=-1)\n",
    "\n",
    "       \n",
    "display_html(\n",
    "'<script>  \n",
    "code_show=true; \n",
    "function code_toggle() {\n",
    "  if (code_show){\n",
    "    $(\\'div.input\\').hide();\n",
    "  } else {\n",
    "    $(\\'div.input\\').show();\n",
    "  }\n",
    "  code_show = !code_show\n",
    "}  \n",
    "$( document ).ready(code_toggle);\n",
    "</script>\n",
    "  <form action=\"javascript:code_toggle()\">\n",
    "    <input type=\"submit\" value=\"Click here to toggle on/off the raw code.\">\n",
    " </form>'\n",
    ")\n",
    "       "
   ]
  },
  {
   "cell_type": "markdown",
   "id": "threatened-delaware",
   "metadata": {},
   "source": [
    "## Exploratief"
   ]
  },
  {
   "cell_type": "markdown",
   "id": "appreciated-pleasure",
   "metadata": {},
   "source": [
    "Hieronder zien we een wordcloud van alle bijvoegelijke en zelfstandige naamwoorden"
   ]
  },
  {
   "cell_type": "markdown",
   "id": "found-paste",
   "metadata": {},
   "source": [
    "Hieronder zien we een wordcloud van alle bijvoegelijke en zelfstandige naamwoorden als lemma. Dus op basis van de woordstam. \n",
    "Bankjes, banken en bank is dus allemaal bank"
   ]
  },
  {
   "cell_type": "code",
   "execution_count": null,
   "id": "auburn-token",
   "metadata": {},
   "outputs": [],
   "source": [
   "display_png(file = 'REPORT/EXPLORATION/Occurence_ADJ_NOUN_wordcloud_lemma.png')"
   ]
  },
  {
   "cell_type": "code",
   "execution_count": null,
   "id": "protecting-source",
   "metadata": {},
   "outputs": [],
   "source": [
    "display_png(file = 'REPORT/EXPLORATION/Cooccurrences_noun_adj_dependency_wordcloud_lemma.png')"
   ]
  },
  {
   "cell_type": "markdown",
   "id": "framed-builder",
   "metadata": {},
   "source": [
    "De meest voorkomende zelfstandig naamwoorden geeft een indicatie van de thema's die veel genoemd worden"
   ]
  },
  {
   "cell_type": "code",
   "execution_count": null,
   "id": "limited-bikini",
   "metadata": {},
   "outputs": [],
   "source": [
    "display_png(file = 'REPORT/EXPLORATION/Occurrence_nouns_lemma.png')"
   ]
  },
  {
   "cell_type": "markdown",
   "id": "liquid-parliament",
   "metadata": {},
   "source": [
    "De bijvoegelijke naamwoorden zijn hier ook belangrijk, vooral omdat groen geclassificeerd is als een en bijvoegelijk naamwoord.\n"
   ]
  },
  {
   "cell_type": "code",
   "execution_count": null,
   "id": "persistent-indiana",
   "metadata": {},
   "outputs": [],
   "source": [
    "display_png(file = 'REPORT/EXPLORATION/Occurrence_adjectives_lemma.png')"
   ]
  },
  {
   "cell_type": "markdown",
   "id": "informal-ghost",
   "metadata": {},
   "source": [
    "De meest voorkomende woordcombinaties "
   ]
  },
  {
   "cell_type": "code",
   "execution_count": null,
   "id": "exact-azerbaijan",
   "metadata": {},
   "outputs": [],
   "source": [
    "display_png(file = 'REPORT/EXPLORATION/Cooccurrences_ngram_bigram.png')"
   ]
  },
  {
   "cell_type": "markdown",
   "id": "inner-democracy",
   "metadata": {},
   "source": [
    "In dit figuur zien we ook de meest voorkomende woordcombinaties en hoe deze zich tot elkaar verhouden. Hoe zwarter de pijl is hoe vaker deze combinatie voorkomt\n"
   ]
  },
  {
   "cell_type": "code",
   "execution_count": null,
   "id": "level-sudan",
   "metadata": {},
   "outputs": [],
   "source": [
    "display_png(file = 'REPORT/EXPLORATION/Cooccurrence_bigram_network_markov_chain.png')"
   ]
  },
  {
   "cell_type": "markdown",
   "id": "maritime-kelly",
   "metadata": {},
   "source": [
    "In dit figuur zien we welke woordcombinaties binnen een zin er zijn als we kijken naar de lemma van bijvoegelijke en zelfstandige naamwoorden.\n",
    "\n",
    "Hoe dikker en dus roder de lijn is hoe vaker deze woordcombinatie genoemd wordt."
   ]
  },
  {
   "cell_type": "code",
   "execution_count": null,
   "id": "wound-recycling",
   "metadata": {},
   "outputs": [],
   "source": [
    "display_png(file = 'REPORT/EXPLORATION/Cooccurrences within sentence lemma.png')"
   ]
  },
  {
   "cell_type": "markdown",
   "id": "referenced-parks",
   "metadata": {},
   "source": [
    "In dit figuur zien we hetzelfde als hierboven behavalve dat er nu 2 woorden tussen het bijvoegelijke en zelfstandige naamwoord mogen staan."
   ]
  },
  {
   "cell_type": "code",
   "execution_count": null,
   "id": "atomic-share",
   "metadata": {},
   "outputs": [],
   "source": [
    "display_png(file = 'REPORT/EXPLORATION/Cooccurrences within sentence max 2 words apart lemma.png')"
   ]
  },
  {
   "cell_type": "markdown",
   "id": "connected-stroke",
   "metadata": {},
   "source": [
    "In dit figuur zien we clusters van woorden die vaak samen voorkomen en hoe die zich tot elkaar verhouden. De y-as is een relatieve maat."
   ]
  },
  {
   "cell_type": "code",
   "execution_count": null,
   "id": "worldwide-carnival",
   "metadata": {},
   "outputs": [],
   "source": [
    "display_png(file ='REPORT/EXPLORATION/Cooccurences_communities_of_words.png')"
   ]
  },
  {
   "cell_type": "code",
   "execution_count": null,
   "id": "clear-skies",
   "metadata": {},
   "outputs": [],
   "source": [
    "display_png(file ='REPORT/EXPLORATION/coocurrence_words_linked_to_negative_terms.png.png')"
   ]
  },
  {
   "cell_type": "markdown",
   "id": "announced-block",
   "metadata": {},
   "source": [
    "## Sentence embedding"
   ]
  },
  {
   "cell_type": "markdown",
   "id": "quiet-sustainability",
   "metadata": {},
   "source": [
    "Sentence embedding: vindt groepen van zinnen die erg op elkaar lijken en geef de essentie van deze groepen weer.\n",
    "\n",
    "In dit figuur zie je het aantal groepen dat er gevormd zijn en welk percentage van de zinnen in ieder cluster zit."
   ]
  },
  {
   "cell_type": "code",
   "execution_count": null,
   "id": "surrounded-preserve",
   "metadata": {
    "scrolled": true
   },
   "outputs": [],
   "source": [
    "files.distribution <- list.files(path = word2vec.path, pattern = \"*cluster_distribution_sentences.png\", full.names = TRUE)\n",
    "display_png(file = files.distribution)"
   ]
  },
  {
   "cell_type": "markdown",
   "id": "sustained-wednesday",
   "metadata": {},
   "source": [
    "Hieronder zie je voor alle clusters de meest representatieve samengevatte teksten"
   ]
  },
  {
   "cell_type": "code",
   "execution_count": null,
   "id": "boolean-positive",
   "metadata": {},
   "outputs": [],
   "source": [
    "files.extractions <- list.files(path = word2vec.path, pattern = \"*cluster-bestextractions\", full.names = TRUE)\n",
    "read.csv(files.extractions)%>%\n",
    "select(best_cl, txt_condensed) %>%\n",
    "head(60)"
   ]
  },
  {
   "cell_type": "markdown",
   "id": "thrown-building",
   "metadata": {},
   "source": [
    "## Topic modelling"
   ]
  },
  {
   "cell_type": "markdown",
   "id": "meaning-battery",
   "metadata": {},
   "source": [
    "Hier worden er groepen gemaakt op basis van woorden en niet zinnen"
   ]
  },
  {
   "cell_type": "markdown",
   "id": "sustained-bunch",
   "metadata": {},
   "source": [
    "Van ieder cluster worden de meest voorkomende woorden getoond in onderstaand figuur"
   ]
  },
  {
   "cell_type": "code",
   "execution_count": null,
   "id": "arbitrary-furniture",
   "metadata": {},
   "outputs": [],
   "source": [
    "files.topicterms <- list.files(path = topicmodels.path, pattern = \"^Topic_Models_LDA.*topics_terms_probabilities.png\", full.names = TRUE)\n",
    "display_png(file = files.topicterms)"
   ]
  },
  {
   "cell_type": "markdown",
   "id": "mathematical-spanking",
   "metadata": {},
   "source": [
    "In onderstaande figuren zie je van ieder cluster een correlatieplot\n",
    "Groen is een positieve correlatie, woorden die vaak samen voorkomen. \n",
    "rood is een negatieve correlatie, woorden die niet vaak samen voorkomen\n",
    "Hoe dikker de lijn, des te sterker is de correlatie, dus hoe waarschijnlijker (groen), of onwaarschijnlijker (rood) dat die samen genoemd wordne"
   ]
  },
  {
   "cell_type": "code",
   "execution_count": null,
   "id": "portuguese-tonight",
   "metadata": {},
   "outputs": [],
   "source": [
    "files.topicterms <- list.files(path = topicmodels.path, pattern = \"correlation\", full.names = TRUE)\n",
    "files.topicterms %>%\n",
    "  map(function(x) display_png(file=x))"
   ]
  },
  {
   "cell_type": "markdown",
   "id": "seeing-condition",
   "metadata": {},
   "source": [
    "Van ieder topic ook een wordcloud met de meestvoorkomende woorden in dit topic"
   ]
  },
  {
   "cell_type": "code",
   "execution_count": null,
   "id": "private-bumper",
   "metadata": {},
   "outputs": [],
   "source": [
    "files.topiccloud <- list.files(path = topicmodels.path, pattern = \"wordcloud_topic\", full.names = TRUE)\n",
    "files.topiccloud %>%\n",
    "  map(function(x) display_png(file=x))"
   ]
  },
  {
   "cell_type": "markdown",
   "id": "intelligent-netscape",
   "metadata": {},
   "source": [
    "Biterm topic modeling: hierbij worden er groepen gemaakt op basis van de combinatie 2 woorden\n",
    "\n",
    "Hier zien we:.."
   ]
  },
  {
   "cell_type": "code",
   "execution_count": null,
   "id": "reasonable-entrance",
   "metadata": {},
   "outputs": [],
   "source": [
    "display_png(file='REPORT/TOPICMODEL/Topic_Models_Biterm.png')"
   ]
  },
  {
   "cell_type": "code",
   "execution_count": null,
   "id": "vulnerable-declaration",
   "metadata": {},
   "outputs": [],
   "source": []
  }
 ],
 "metadata": {
  "kernelspec": {
   "display_name": "R",
   "language": "R",
   "name": "ir"
  },
  "language_info": {
   "codemirror_mode": "r",
   "file_extension": ".r",
   "mimetype": "text/x-r-source",
   "name": "R",
   "pygments_lexer": "r",
   "version": "3.6.1"
  }
 },
 "nbformat": 4,
 "nbformat_minor": 5
}
